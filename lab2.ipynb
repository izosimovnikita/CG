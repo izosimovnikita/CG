{
"cells": [
{
"cell_type": "code",
"execution_count": 1,
"metadata": {
"collapsed": false
},
"outputs": [
{
"data": {
"text/html": [
"<script>requirejs.config({paths: { 'plotly': ['https://cdn.plot.ly/plotly-latest.min']},});if(!window.Plotly) {{require(['plotly'],function(plotly) {window.Plotly=plotly;});}}</script>"
],
"text/vnd.plotly.v1+html": [
"<script>requirejs.config({paths: { 'plotly': ['https://cdn.plot.ly/plotly-latest.min']},});if(!window.Plotly) {{require(['plotly'],function(plotly) {window.Plotly=plotly;});}}</script>"
]
},
"metadata": {},
"output_type": "display_data"
}
],
"source": [
"import plotly\n",
"import numpy as np\n",
"from plotly.offline import download_plotlyjs,init_notebook_mode,plot,iplot\n",
"import plotly.graph_objs as go\n",
"import plotly.plotly as py\n",
"init_notebook_mode(connected=True)\n",
"plotly.tools.set_credentials_file(username='tutkarma', api_key='4bPbjJshpACAq3bvhyOT')"
]
},
{
"cell_type": "code",
"execution_count": 3,
"metadata": {
"collapsed": false
},
"outputs": [],
"source": [
"class Prism(object):\n",
"    def __init__(self,u,v,w):\n",
"        self.u = np.array(u)\n",
"        self.v = np.array(v)\n",
"        self.w = np.array(w)\n",
"\n",
"    def goprism(self):\n",
"        x = [0,self.u[0],self.u[0]+self.v[0],self.v[0],self.w[0],self.w[0]+self.u[0],self.w[0]+self.u[0]+self.v[0],\\\n",
"             self.v[0]+self.w[0]]\n",
"        y = [0,self.u[1],self.u[1]+self.v[1],self.v[1],self.w[1],self.w[1]+self.u[1],self.w[1]+self.u[1]+self.v[1],\\\n",
"             self.v[1]+self.w[1]]\n",
"        z = [0,self.u[2],self.u[2]+self.v[2],self.v[2],self.w[2],self.w[2]+self.u[2],self.w[2]+self.u[2]+self.v[2],\\\n",
"             self.v[2]+self.w[2]]\n",
"        prism = go.Data([go.Mesh3d(x=x,y=y,z=z,\n",
"            i = [0, 0, 3, 4, 4, 4, 4, 4, 5, 6, 6, 7],\n",
"            j = [2, 3, 4, 3, 6, 7, 1, 5, 2, 2, 7, 3],\n",
"            k = [1, 2, 0, 7, 5, 6, 0, 1, 1, 5, 2, 2],\n",
"            opacity = 1.0)\n",
"            ])\n",
"        return prism\n",
"\n",
"    def lytprism(self, name_title):\n",
"        ubx = sum([abs(self.u[0]),abs(self.v[0]),abs(self.w[0])])\n",
"        uby = sum([abs(self.u[1]),abs(self.v[1]),abs(self.w[1])])\n",
"        ubz = sum([abs(self.u[2]),abs(self.v[2]),abs(self.w[2])])\n",
"        layout = go.Layout(\n",
"            title = name_title,\n",
"            scene = dict(xaxis=dict(\n",
"                title='x', range=[-ubx-5,ubx+5]\n",
"            ),\n",
"            yaxis=dict(\n",
"                title='y',range=[-uby-5,uby+5]\n",
"            ),\n",
"            zaxis = dict(\n",
"                title='z',range=[-ubz-5,ubz+5])\n",
"            )              \n",
"        )\n",
"        return layout\n",
"    \n",
"class Rectangle(object):\n",
"    def __init__(self, x0, x1, y0, y1):\n",
"        self.x0 = x0\n",
"        self.x1 = x1\n",
"        self.y0 = y0\n",
"        self.y1 = y1\n",
"\n",
"    def gorect(self):\n",
"        rect = [go.Scatter(\n",
"            x=[1.5, 4.5],\n",
"            y=[0.75, 0.75],\n",
"        )]\n",
"        return rect\n",
"\n",
"    def lytrec(self, name_title):\n",
"        layout = {\n",
"            'title': name_title,\n",
"            'xaxis': {\n",
"                'range': [-10.0, 10.0],\n",
"                'showgrid': False,\n",
"            },\n",
"            'yaxis': {\n",
"                'range': [-10.0, 10.0]\n",
"            },\n",
"            'shapes': [\n",
"                {\n",
"                    'type': 'rect',\n",
"                    'x0': self.x0,\n",
"                    'y0': self.y0,\n",
"                    'x1': self.x1,\n",
"                    'y1': self.y1,\n",
"                    'line': {\n",
"                        'color': 'rgba(63, 127, 191, 1)',\n",
"                        'width': 2,\n",
"                },\n",
"                    'fillcolor': 'rgba(63, 127, 191, 1)',\n",
"                },\n",
"            ]\n",
"        }\n",
"        return layout\n",
"    "
]
},
{
"cell_type": "code",
"execution_count": 4,
"metadata": {
"collapsed": false
},
"outputs": [],
"source": [
"my_prism = Prism([4.,0.,0.],[0.,4.,0.],[0.,0.,8.])\n",
"data = my_prism.goprism()\n",
"layout_3d = my_prism.lytprism(\"4-угольная прямая правильная призма\")\n",
"\n",
"prism_x = Rectangle(0, 4, 0, 8)\n",
"prism_y = Rectangle(0, 4, 0, 8)\n",
"prism_z = Rectangle(0, 4, 0, 4)\n",
"data_x = prism_x.gorect()\n",
"data_y = prism_y.gorect()\n",
"data_z = prism_z.gorect()\n",
"layout_x = prism_x.lytrec(\"Проекция на плоскость YOZ\")\n",
"layout_y = prism_y.lytrec(\"Проекция на плоскость XOZ\")\n",
"layout_z = prism_z.lytrec(\"Проекция на плоскость XOY\")\n",
"\n",
"fig = go.Figure(data=data, layout=layout_3d)\n",
"fig_x = {\n",
"    'data': data_x,\n",
"    'layout': layout_x,\n",
"}\n",
"fig_y = {\n",
"    'data': data_y,\n",
"    'layout': layout_y,\n",
"}\n",
"fig_z = {\n",
"    'data': data_z,\n",
"    'layout': layout_z,\n",
"}\n"
]
},
{
"cell_type": "markdown",
"metadata": {
"collapsed": false
},
"source": [
"# Лабораторная работа №2\n",
"### Тема: Каркасная визуализация выпуклого многогранника. Удаление невидимых линий.\n",
"### Изосимов Никита М8О-309Б\n",
"### Вариант: 4-угольная правильная прямая призма\n",
"\n",
"Разработать формат представления многогранника и процедуру его каркасной отрисовки в ортографической и изометрической проекциях. Обеспечить удаление невидимых линий и возможность пространственных поворотов и масштабирования многогранника. Обеспечить автоматическое центрирование и изменение размеров изображения при изменении размеров окна."
]
},
{
"cell_type": "code",
"execution_count": 5,
"metadata": {
"collapsed": false
},
"outputs": [
{
"data": {
"application/vnd.plotly.v1+json": {
"data": [
{
"i": [
0,
0,
3,
4,
4,
4,
4,
4,
5,
6,
6,
7
],
"j": [
2,
3,
4,
3,
6,
7,
1,
5,
2,
2,
7,
3
],
"k": [
1,
2,
0,
7,
5,
6,
0,
1,
1,
5,
2,
2
],
"opacity": 1,
"type": "mesh3d",
"x": [
0,
4,
4,
0,
0,
4,
4,
0
],
"y": [
0,
0,
4,
4,
0,
0,
4,
4
],
"z": [
0,
0,
0,
0,
8,
8,
8,
8
]
}
],
"layout": {
"scene": {
"xaxis": {
"range": [
-9,
9
],
"title": "x"
},
"yaxis": {
"range": [
-9,
9
],
"title": "y"
},
"zaxis": {
"range": [
-13,
13
],
"title": "z"
}
},
"title": "4-угольная прямая правильная призма"
}
},
"text/html": [
"<div id=\"e69e0870-ad1b-404e-a16a-92f91c6be0fc\" style=\"height: 525px; width: 100%;\" class=\"plotly-graph-div\"></div><script type=\"text/javascript\">require([\"plotly\"], function(Plotly) { window.PLOTLYENV=window.PLOTLYENV || {};window.PLOTLYENV.BASE_URL=\"https://plot.ly\";Plotly.newPlot(\"e69e0870-ad1b-404e-a16a-92f91c6be0fc\", [{\"type\": \"mesh3d\", \"x\": [0, 4.0, 4.0, 0.0, 0.0, 4.0, 4.0, 0.0], \"y\": [0, 0.0, 4.0, 4.0, 0.0, 0.0, 4.0, 4.0], \"z\": [0, 0.0, 0.0, 0.0, 8.0, 8.0, 8.0, 8.0], \"i\": [0, 0, 3, 4, 4, 4, 4, 4, 5, 6, 6, 7], \"j\": [2, 3, 4, 3, 6, 7, 1, 5, 2, 2, 7, 3], \"k\": [1, 2, 0, 7, 5, 6, 0, 1, 1, 5, 2, 2], \"opacity\": 1.0}], {\"title\": \"4-\\u0443\\u0433\\u043e\\u043b\\u044c\\u043d\\u0430\\u044f \\u043f\\u0440\\u044f\\u043c\\u0430\\u044f \\u043f\\u0440\\u0430\\u0432\\u0438\\u043b\\u044c\\u043d\\u0430\\u044f \\u043f\\u0440\\u0438\\u0437\\u043c\\u0430\", \"scene\": {\"xaxis\": {\"title\": \"x\", \"range\": [-9.0, 9.0]}, \"yaxis\": {\"title\": \"y\", \"range\": [-9.0, 9.0]}, \"zaxis\": {\"title\": \"z\", \"range\": [-13.0, 13.0]}}}, {\"showLink\": true, \"linkText\": \"Export to plot.ly\"})});</script>"
],
"text/vnd.plotly.v1+html": [
"<div id=\"e69e0870-ad1b-404e-a16a-92f91c6be0fc\" style=\"height: 525px; width: 100%;\" class=\"plotly-graph-div\"></div><script type=\"text/javascript\">require([\"plotly\"], function(Plotly) { window.PLOTLYENV=window.PLOTLYENV || {};window.PLOTLYENV.BASE_URL=\"https://plot.ly\";Plotly.newPlot(\"e69e0870-ad1b-404e-a16a-92f91c6be0fc\", [{\"type\": \"mesh3d\", \"x\": [0, 4.0, 4.0, 0.0, 0.0, 4.0, 4.0, 0.0], \"y\": [0, 0.0, 4.0, 4.0, 0.0, 0.0, 4.0, 4.0], \"z\": [0, 0.0, 0.0, 0.0, 8.0, 8.0, 8.0, 8.0], \"i\": [0, 0, 3, 4, 4, 4, 4, 4, 5, 6, 6, 7], \"j\": [2, 3, 4, 3, 6, 7, 1, 5, 2, 2, 7, 3], \"k\": [1, 2, 0, 7, 5, 6, 0, 1, 1, 5, 2, 2], \"opacity\": 1.0}], {\"title\": \"4-\\u0443\\u0433\\u043e\\u043b\\u044c\\u043d\\u0430\\u044f \\u043f\\u0440\\u044f\\u043c\\u0430\\u044f \\u043f\\u0440\\u0430\\u0432\\u0438\\u043b\\u044c\\u043d\\u0430\\u044f \\u043f\\u0440\\u0438\\u0437\\u043c\\u0430\", \"scene\": {\"xaxis\": {\"title\": \"x\", \"range\": [-9.0, 9.0]}, \"yaxis\": {\"title\": \"y\", \"range\": [-9.0, 9.0]}, \"zaxis\": {\"title\": \"z\", \"range\": [-13.0, 13.0]}}}, {\"showLink\": true, \"linkText\": \"Export to plot.ly\"})});</script>"
]
},
"metadata": {},
"output_type": "display_data"
},
{
"data": {
"application/vnd.plotly.v1+json": {
"data": [
{
"type": "scatter",
"x": [
1.5,
4.5
],
"y": [
0.75,
0.75
]
}
],
"layout": {
"shapes": [
{
"fillcolor": "rgba(63, 127, 191, 1)",
"line": {
"color": "rgba(63, 127, 191, 1)",
"width": 2
},
"type": "rect",
"x0": 0,
"x1": 4,
"y0": 0,
"y1": 8
}
],
"title": "Проекция на плоскость YOZ",
"xaxis": {
"range": [
-10,
10
],
"showgrid": false
},
"yaxis": {
"range": [
-10,
10
]
}
}
},
"text/html": [
"<div id=\"2153630a-2874-4374-b8e3-e9174bbb588a\" style=\"height: 525px; width: 100%;\" class=\"plotly-graph-div\"></div><script type=\"text/javascript\">require([\"plotly\"], function(Plotly) { window.PLOTLYENV=window.PLOTLYENV || {};window.PLOTLYENV.BASE_URL=\"https://plot.ly\";Plotly.newPlot(\"2153630a-2874-4374-b8e3-e9174bbb588a\", [{\"type\": \"scatter\", \"x\": [1.5, 4.5], \"y\": [0.75, 0.75]}], {\"title\": \"\\u041f\\u0440\\u043e\\u0435\\u043a\\u0446\\u0438\\u044f \\u043d\\u0430 \\u043f\\u043b\\u043e\\u0441\\u043a\\u043e\\u0441\\u0442\\u044c YOZ\", \"xaxis\": {\"range\": [-10.0, 10.0], \"showgrid\": false}, \"yaxis\": {\"range\": [-10.0, 10.0]}, \"shapes\": [{\"type\": \"rect\", \"x0\": 0, \"y0\": 0, \"x1\": 4, \"y1\": 8, \"line\": {\"color\": \"rgba(63, 127, 191, 1)\", \"width\": 2}, \"fillcolor\": \"rgba(63, 127, 191, 1)\"}]}, {\"showLink\": true, \"linkText\": \"Export to plot.ly\"})});</script>"
],
"text/vnd.plotly.v1+html": [
"<div id=\"2153630a-2874-4374-b8e3-e9174bbb588a\" style=\"height: 525px; width: 100%;\" class=\"plotly-graph-div\"></div><script type=\"text/javascript\">require([\"plotly\"], function(Plotly) { window.PLOTLYENV=window.PLOTLYENV || {};window.PLOTLYENV.BASE_URL=\"https://plot.ly\";Plotly.newPlot(\"2153630a-2874-4374-b8e3-e9174bbb588a\", [{\"type\": \"scatter\", \"x\": [1.5, 4.5], \"y\": [0.75, 0.75]}], {\"title\": \"\\u041f\\u0440\\u043e\\u0435\\u043a\\u0446\\u0438\\u044f \\u043d\\u0430 \\u043f\\u043b\\u043e\\u0441\\u043a\\u043e\\u0441\\u0442\\u044c YOZ\", \"xaxis\": {\"range\": [-10.0, 10.0], \"showgrid\": false}, \"yaxis\": {\"range\": [-10.0, 10.0]}, \"shapes\": [{\"type\": \"rect\", \"x0\": 0, \"y0\": 0, \"x1\": 4, \"y1\": 8, \"line\": {\"color\": \"rgba(63, 127, 191, 1)\", \"width\": 2}, \"fillcolor\": \"rgba(63, 127, 191, 1)\"}]}, {\"showLink\": true, \"linkText\": \"Export to plot.ly\"})});</script>"
]
},
"metadata": {},
"output_type": "display_data"
},
{
"data": {
"application/vnd.plotly.v1+json": {
"data": [
{
"type": "scatter",
"x": [
1.5,
4.5
],
"y": [
0.75,
0.75
]
}
],
"layout": {
"shapes": [
{
"fillcolor": "rgba(63, 127, 191, 1)",
"line": {
"color": "rgba(63, 127, 191, 1)",
"width": 2
},
"type": "rect",
"x0": 0,
"x1": 4,
"y0": 0,
"y1": 8
}
],
"title": "Проекция на плоскость XOZ",
"xaxis": {
"range": [
-10,
10
],
"showgrid": false
},
"yaxis": {
"range": [
-10,
10
]
}
}
},
"text/html": [
"<div id=\"4ece4254-997a-4772-b46f-a30a753a5da9\" style=\"height: 525px; width: 100%;\" class=\"plotly-graph-div\"></div><script type=\"text/javascript\">require([\"plotly\"], function(Plotly) { window.PLOTLYENV=window.PLOTLYENV || {};window.PLOTLYENV.BASE_URL=\"https://plot.ly\";Plotly.newPlot(\"4ece4254-997a-4772-b46f-a30a753a5da9\", [{\"type\": \"scatter\", \"x\": [1.5, 4.5], \"y\": [0.75, 0.75]}], {\"title\": \"\\u041f\\u0440\\u043e\\u0435\\u043a\\u0446\\u0438\\u044f \\u043d\\u0430 \\u043f\\u043b\\u043e\\u0441\\u043a\\u043e\\u0441\\u0442\\u044c XOZ\", \"xaxis\": {\"range\": [-10.0, 10.0], \"showgrid\": false}, \"yaxis\": {\"range\": [-10.0, 10.0]}, \"shapes\": [{\"type\": \"rect\", \"x0\": 0, \"y0\": 0, \"x1\": 4, \"y1\": 8, \"line\": {\"color\": \"rgba(63, 127, 191, 1)\", \"width\": 2}, \"fillcolor\": \"rgba(63, 127, 191, 1)\"}]}, {\"showLink\": true, \"linkText\": \"Export to plot.ly\"})});</script>"
],
"text/vnd.plotly.v1+html": [
"<div id=\"4ece4254-997a-4772-b46f-a30a753a5da9\" style=\"height: 525px; width: 100%;\" class=\"plotly-graph-div\"></div><script type=\"text/javascript\">require([\"plotly\"], function(Plotly) { window.PLOTLYENV=window.PLOTLYENV || {};window.PLOTLYENV.BASE_URL=\"https://plot.ly\";Plotly.newPlot(\"4ece4254-997a-4772-b46f-a30a753a5da9\", [{\"type\": \"scatter\", \"x\": [1.5, 4.5], \"y\": [0.75, 0.75]}], {\"title\": \"\\u041f\\u0440\\u043e\\u0435\\u043a\\u0446\\u0438\\u044f \\u043d\\u0430 \\u043f\\u043b\\u043e\\u0441\\u043a\\u043e\\u0441\\u0442\\u044c XOZ\", \"xaxis\": {\"range\": [-10.0, 10.0], \"showgrid\": false}, \"yaxis\": {\"range\": [-10.0, 10.0]}, \"shapes\": [{\"type\": \"rect\", \"x0\": 0, \"y0\": 0, \"x1\": 4, \"y1\": 8, \"line\": {\"color\": \"rgba(63, 127, 191, 1)\", \"width\": 2}, \"fillcolor\": \"rgba(63, 127, 191, 1)\"}]}, {\"showLink\": true, \"linkText\": \"Export to plot.ly\"})});</script>"
]
},
"metadata": {},
"output_type": "display_data"
},
{
"data": {
"application/vnd.plotly.v1+json": {
"data": [
{
"type": "scatter",
"x": [
1.5,
4.5
],
"y": [
0.75,
0.75
]
}
],
"layout": {
"shapes": [
{
"fillcolor": "rgba(63, 127, 191, 1)",
"line": {
"color": "rgba(63, 127, 191, 1)",
"width": 2
},
"type": "rect",
"x0": 0,
"x1": 4,
"y0": 0,
"y1": 4
}
],
"title": "Проекция на плоскость XOY",
"xaxis": {
"range": [
-10,
10
],
"showgrid": false
},
"yaxis": {
"range": [
-10,
10
]
}
}
},
"text/html": [
"<div id=\"f805adee-6f42-4c5c-a9c2-636beead43f9\" style=\"height: 525px; width: 100%;\" class=\"plotly-graph-div\"></div><script type=\"text/javascript\">require([\"plotly\"], function(Plotly) { window.PLOTLYENV=window.PLOTLYENV || {};window.PLOTLYENV.BASE_URL=\"https://plot.ly\";Plotly.newPlot(\"f805adee-6f42-4c5c-a9c2-636beead43f9\", [{\"type\": \"scatter\", \"x\": [1.5, 4.5], \"y\": [0.75, 0.75]}], {\"title\": \"\\u041f\\u0440\\u043e\\u0435\\u043a\\u0446\\u0438\\u044f \\u043d\\u0430 \\u043f\\u043b\\u043e\\u0441\\u043a\\u043e\\u0441\\u0442\\u044c XOY\", \"xaxis\": {\"range\": [-10.0, 10.0], \"showgrid\": false}, \"yaxis\": {\"range\": [-10.0, 10.0]}, \"shapes\": [{\"type\": \"rect\", \"x0\": 0, \"y0\": 0, \"x1\": 4, \"y1\": 4, \"line\": {\"color\": \"rgba(63, 127, 191, 1)\", \"width\": 2}, \"fillcolor\": \"rgba(63, 127, 191, 1)\"}]}, {\"showLink\": true, \"linkText\": \"Export to plot.ly\"})});</script>"
],
"text/vnd.plotly.v1+html": [
"<div id=\"f805adee-6f42-4c5c-a9c2-636beead43f9\" style=\"height: 525px; width: 100%;\" class=\"plotly-graph-div\"></div><script type=\"text/javascript\">require([\"plotly\"], function(Plotly) { window.PLOTLYENV=window.PLOTLYENV || {};window.PLOTLYENV.BASE_URL=\"https://plot.ly\";Plotly.newPlot(\"f805adee-6f42-4c5c-a9c2-636beead43f9\", [{\"type\": \"scatter\", \"x\": [1.5, 4.5], \"y\": [0.75, 0.75]}], {\"title\": \"\\u041f\\u0440\\u043e\\u0435\\u043a\\u0446\\u0438\\u044f \\u043d\\u0430 \\u043f\\u043b\\u043e\\u0441\\u043a\\u043e\\u0441\\u0442\\u044c XOY\", \"xaxis\": {\"range\": [-10.0, 10.0], \"showgrid\": false}, \"yaxis\": {\"range\": [-10.0, 10.0]}, \"shapes\": [{\"type\": \"rect\", \"x0\": 0, \"y0\": 0, \"x1\": 4, \"y1\": 4, \"line\": {\"color\": \"rgba(63, 127, 191, 1)\", \"width\": 2}, \"fillcolor\": \"rgba(63, 127, 191, 1)\"}]}, {\"showLink\": true, \"linkText\": \"Export to plot.ly\"})});</script>"
]
},
"metadata": {},
"output_type": "display_data"
}
],
"source": [
"iplot(fig, filename='prism')\n",
"iplot(fig_x, filename='rect_x')\n",
"iplot(fig_y, filename='rect_y')\n",
"iplot(fig_z, filename='rect_z')"
]
},
{
"cell_type": "code",
"execution_count": null,
"metadata": {
"collapsed": false
},
"outputs": [],
"source": []
},
{
"cell_type": "code",
"execution_count": null,
"metadata": {
"collapsed": true
},
"outputs": [],
"source": []
}
],
"metadata": {
"kernelspec": {
"display_name": "Python 3",
"language": "python",
"name": "python3"
},
"language_info": {
"codemirror_mode": {
"name": "ipython",
"version": 3
},
"file_extension": ".py",
"mimetype": "text/x-python",
"name": "python",
"nbconvert_exporter": "python",
"pygments_lexer": "ipython3",
"version": "3.6.0"
}
},
"nbformat": 4,
"nbformat_minor": 2
}
